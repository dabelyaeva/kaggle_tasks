{
 "cells": [
  {
   "cell_type": "code",
   "execution_count": 72,
   "metadata": {},
   "outputs": [],
   "source": [
    "import numpy as np\n",
    "import pandas as pd\n",
    "import networkx as nx\n",
    "import math\n",
    "\n",
    "from random import randint\n",
    "from sklearn.model_selection import train_test_split\n",
    "from sklearn.metrics import roc_auc_score\n",
    "from itertools import islice"
   ]
  },
  {
   "cell_type": "code",
   "execution_count": 73,
   "metadata": {},
   "outputs": [],
   "source": [
    "train = pd.read_csv('data/social_network.csv')\n",
    "test = pd.read_csv('data/suspicious_edges.csv')\n",
    "\n",
    "train.columns = [u'i', u'j']\n",
    "test.columns = [u'id', u'i', u'j']"
   ]
  },
  {
   "cell_type": "code",
   "execution_count": 74,
   "metadata": {},
   "outputs": [],
   "source": [
    "train_without_loops = train[train.i != train.j]\n",
    "test_without_loops = test[test.i != test.j]\n",
    "\n",
    "test_loops = test[test.i == test.j]"
   ]
  },
  {
   "cell_type": "code",
   "execution_count": 75,
   "metadata": {},
   "outputs": [],
   "source": [
    "edges = [(i, j) for _, (i, j) in train_without_loops.iterrows()]\n",
    "edges_test = [(i, j) for _, (_, i, j) in test_without_loops.iterrows()]\n",
    "\n",
    "nodes = pd.Series(train_without_loops[['i', 'j']].values.ravel()).unique()\n",
    "nodes_test = pd.Series(test_without_loops[['i', 'j']].values.ravel()).unique()"
   ]
  },
  {
   "cell_type": "code",
   "execution_count": 76,
   "metadata": {},
   "outputs": [],
   "source": [
    "G = nx.Graph()\n",
    "G.add_edges_from(edges)\n",
    "G.add_nodes_from(nodes_test)"
   ]
  },
  {
   "cell_type": "code",
   "execution_count": 77,
   "metadata": {},
   "outputs": [],
   "source": [
    "def rand_edges(G, number):\n",
    "    new_edges = set()\n",
    "    num_nodes, num_edges = map(len, [G.nodes(), G.edges()])\n",
    "    low, high = (lambda x: (min(x), max(x)))(G.nodes())\n",
    "    \n",
    "    while number >= 0:\n",
    "        node1 = randint(low, high + 1)\n",
    "        node2 = randint(low, high + 1)\n",
    "        if node1 not in G or node2 not in G: continue\n",
    "        if node1 == node2 or (node1, node2) in new_edges: continue\n",
    "        yield (node1, node2)\n",
    "        new_edges.add((node1, node2))\n",
    "        number -= 1"
   ]
  },
  {
   "cell_type": "code",
   "execution_count": 78,
   "metadata": {},
   "outputs": [],
   "source": [
    "def cross_val(edges, predictor):\n",
    "    X1_train, X1_test, Y1_train, Y1_test = train_test_split(edges, np.ones(len(edges)), test_size = 0.15, random_state = 5)\n",
    "    num_test = int(len(edges) * 0.15)\n",
    "    X2_test = list(islice(rand_non_edges(G, num_test), num_test + 1))   \n",
    "    Y2_test = np.zeros(len(X2_test)) \n",
    "    X_train = X1_train\n",
    "    X_test = X1_test + X2_test\n",
    "    Y_test = np.hstack([Y1_test, Y2_test])\n",
    "    \n",
    "    Y_pred = predictor(G.nodes(), X_train, X_test)\n",
    "    auc = roc_auc_score(Y_test, Y_pred)\n",
    "\n",
    "    return auc"
   ]
  },
  {
   "cell_type": "code",
   "execution_count": 79,
   "metadata": {},
   "outputs": [],
   "source": [
    "pd.options.mode.chained_assignment = None\n",
    "\n",
    "preds_adamic_adar = nx.adamic_adar_index(G, edges_new)\n",
    "probs_adamic_adar = []\n",
    "for u, v, p in preds_adamic_adar:\n",
    "    probs_adamic_adar.append(p)\n",
    "\n",
    "edges_adamic_adar = test_without_loops\n",
    "edges_adamic_adar['prob'] = probs_adamic_adar\n",
    "test_loops['prob'] = 0\n",
    "res = pd.concat([edges_adamic_adar, test_loops])[['id', 'prob']].sort_index()\n",
    "\n",
    "res.to_csv(\"data/result.csv\", index=False)"
   ]
  },
  {
   "cell_type": "code",
   "execution_count": 80,
   "metadata": {},
   "outputs": [],
   "source": [
    "def predict_with_adamic_adar(nodes, train, test):    \n",
    "    G = nx.Graph()\n",
    "    G.add_edges_from(train)\n",
    "    G.add_nodes_from(nodes)\n",
    "    probs = np.array([prob for (_, _, prob) in nx.adamic_adar_index(G, test)])\n",
    "    probs /= probs.max()\n",
    "    return probs"
   ]
  },
  {
   "cell_type": "code",
   "execution_count": 81,
   "metadata": {},
   "outputs": [
    {
     "name": "stdout",
     "output_type": "stream",
     "text": [
      "0.7998669451591693\n"
     ]
    }
   ],
   "source": [
    "print (cross_val(edges, predict_with_adamic_adar))"
   ]
  }
 ],
 "metadata": {
  "kernelspec": {
   "display_name": "Python 3",
   "language": "python",
   "name": "python3"
  },
  "language_info": {
   "codemirror_mode": {
    "name": "ipython",
    "version": 3
   },
   "file_extension": ".py",
   "mimetype": "text/x-python",
   "name": "python",
   "nbconvert_exporter": "python",
   "pygments_lexer": "ipython3",
   "version": "3.6.6"
  }
 },
 "nbformat": 4,
 "nbformat_minor": 2
}
